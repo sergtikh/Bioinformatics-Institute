{
 "cells": [
  {
   "cell_type": "code",
   "execution_count": 89,
   "metadata": {},
   "outputs": [],
   "source": [
    "import numpy as np\n",
    "\n",
    "def traceback(val, xval, yval, seq2, seq1):\n",
    "    sequ1 = ''\n",
    "    sequ2 = ''\n",
    "    i = len(seq2)\n",
    "    j = len(seq1) \n",
    "\n",
    "    while (i>0 and j>0):\n",
    "        if (i>0 and j>0 and val[i][j] == val[i-1][j-1] + (match if seq2[i-1] == seq1[j-1] else mismatch)):\n",
    "            sequ1 += seq1[j-1]\n",
    "            sequ2 += seq2[i-1]\n",
    "            i -= 1\n",
    "            j -= 1\n",
    "        elif (i>0 and val[i][j] == xval[i][j]):\n",
    "            sequ1 += '-'\n",
    "            sequ2 += seq2[i-1]\n",
    "            i -= 1\n",
    "        elif (j>0 and val[i][j] == yval[i][j]):\n",
    "            sequ1 += seq1[j-1]\n",
    "            sequ2 += '-'\n",
    "            j -= 1\n",
    "    \n",
    "    while (i>0):\n",
    "        sequ1 += '-'\n",
    "        sequ2 += seq2[i-1]\n",
    "        i -= 1\n",
    "    while (i>0):\n",
    "        sequ1 += seq1[j-1]\n",
    "        sequ2 += '-'\n",
    "        j -= 1  \n",
    "    \n",
    "    sequ1 = sequ1[::-1]\n",
    "    sequ2 = sequ2[::-1]\n",
    "    \n",
    "    return (sequ1, sequ2)"
   ]
  },
  {
   "cell_type": "code",
   "execution_count": 90,
   "metadata": {},
   "outputs": [],
   "source": [
    "def SW_affine(seq1, seq2):\n",
    "    rows = len(seq1) + 1 \n",
    "    cols = len(seq2) + 1\n",
    "\n",
    "    xval = np.zeros((cols, rows))\n",
    "    yval = np.zeros((cols, rows))\n",
    "    val = np.zeros((cols, rows))\n",
    "    \n",
    "    for i in range(rows):\n",
    "        val[i][0] = gap_open + i*gap_extend\n",
    "        yval[i][0] = -np.inf \n",
    "    \n",
    "    for j in range(cols):\n",
    "        val[0][j] = gap_open + j*gap_extend\n",
    "        xval[0][j] = -np.inf  \n",
    "    \n",
    "    val[0][0] = 0.\n",
    "     \n",
    "    for i in range(1, rows):\n",
    "        for j in range(1, cols):\n",
    "            xval[i][j] = max(xval[i-1][j] + gap_extend, val[i-1][j] + gap_open + gap_extend)\n",
    "            yval[i][j] = max(yval[i][j-1] + gap_extend, val[i][j-1] + gap_open + gap_extend)\n",
    "            cople = 0.\n",
    "            if (seq1[j-1] == seq2[i-1]):\n",
    "                cople = val[i-1][j-1] + match\n",
    "            else:\n",
    "                cople = val[i-1][j-1] + mismatch\n",
    "            \n",
    "            val[i][j] = max(cople, xval[i][j], yval[i][j])\n",
    "    return traceback(val, xval, yval, seq2, seq1)"
   ]
  },
  {
   "cell_type": "code",
   "execution_count": 91,
   "metadata": {},
   "outputs": [
    {
     "name": "stdout",
     "output_type": "stream",
     "text": [
      "---T-CC-CAGT-TATGTCAGGGGACACGAGCATG-CAGAGAC\n",
      "AATTGCCGCCGTCGTTTTCA---G-CA-G-TTATGTCAGA-TC\n"
     ]
    }
   ],
   "source": [
    "gap_open = -1.\n",
    "gap_extend = -1\n",
    "match = 1.\n",
    "mismatch = -1.\n",
    "seq1 = 'TCCCAGTTATGTCAGGGGACACGAGCATGCAGAGAC'\n",
    "seq2 = 'AATTGCCGCCGTCGTTTTCAGCAGTTATGTCAGATC' \n",
    "result = SW_affine(seq1, seq2)\n",
    "print(result[0])\n",
    "print(result[1])"
   ]
  },
  {
   "cell_type": "code",
   "execution_count": null,
   "metadata": {},
   "outputs": [],
   "source": []
  }
 ],
 "metadata": {
  "kernelspec": {
   "display_name": "Python 3",
   "language": "python",
   "name": "python3"
  },
  "language_info": {
   "codemirror_mode": {
    "name": "ipython",
    "version": 3
   },
   "file_extension": ".py",
   "mimetype": "text/x-python",
   "name": "python",
   "nbconvert_exporter": "python",
   "pygments_lexer": "ipython3",
   "version": "3.7.6"
  }
 },
 "nbformat": 4,
 "nbformat_minor": 4
}
