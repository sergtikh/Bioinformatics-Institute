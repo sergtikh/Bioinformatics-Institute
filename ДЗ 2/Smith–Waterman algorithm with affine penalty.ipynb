{
 "cells": [
  {
   "cell_type": "code",
   "execution_count": 1,
   "metadata": {},
   "outputs": [],
   "source": [
    "def traceback(path_matrix, start_pos, score_matrix):\n",
    "    x,y = start_pos\n",
    "    aligned_seqA = []\n",
    "    aligned_seqB = []\n",
    "\n",
    "    i = len(seqA)\n",
    "    j = len(seqB)\n",
    "    \n",
    "    while x < i :\n",
    "        aligned_seqA += seqA[i-1].lower()\n",
    "        aligned_seqB += '-'\n",
    "        i -= 1\n",
    "    while y < j:\n",
    "        aligned_seqA += '-'\n",
    "        aligned_seqB += seqB[j-1].lower()\n",
    "        j -= 1\n",
    "    \n",
    "    while path_matrix[x][y] != [0, 'NULL'] :\n",
    "        d, direction = path_matrix[x][y][0], path_matrix[x][y][1]\n",
    "        if direction == 'DIAG' :\n",
    "            aligned_seqA.append(seqA[x - 1])     \n",
    "            aligned_seqB.append(seqB[y - 1])\n",
    "            x -= 1\n",
    "            y -= 1\n",
    "        elif direction == 'UP' : \n",
    "            for c in range(d):\n",
    "                aligned_seqA.append(seqA[x - 1])\n",
    "                aligned_seqB.append('-')             \n",
    "                x -= 1\n",
    "        elif direction == 'LEFT' :\n",
    "            for c in range(d):\n",
    "                aligned_seqA.append('-')            \n",
    "                aligned_seqB.append(seqB[y - 1])\n",
    "                y -= 1\n",
    "    \n",
    "    while x > 0:\n",
    "        aligned_seqA += seqA[x-1].lower()\n",
    "        aligned_seqB += '-'\n",
    "        x -= 1\n",
    "    while y > 0:\n",
    "        aligned_seqA += '-'\n",
    "        aligned_seqB += seqB[y-1].lower()\n",
    "        y -= 1\n",
    "    \n",
    "    return ''.join(reversed(aligned_seqA)), ''.join(reversed(aligned_seqB))"
   ]
  },
  {
   "cell_type": "code",
   "execution_count": 2,
   "metadata": {},
   "outputs": [],
   "source": [
    "def create_score_matrix(rows, cols):\n",
    "    score_matrix = np.zeros((rows, cols))\n",
    "    path_matrix = [[[0 , 'NULL'] for col in range(cols)] for row in range(rows)]  \n",
    "    \n",
    "    max_score = 0\n",
    "    max_pos   = None    \n",
    "    for i in range(1, rows): \n",
    "        for j in range(1, cols):\n",
    "            score, antecedent = calc_score(score_matrix, i, j)\n",
    "            if score > max_score:                  \n",
    "                max_score = score\n",
    "                max_pos   = (i, j)\n",
    "\n",
    "            score_matrix[i][j],path_matrix[i][j] = score, antecedent           \n",
    "\n",
    "    return score_matrix, max_pos, max_score, path_matrix  "
   ]
  },
  {
   "cell_type": "code",
   "execution_count": 3,
   "metadata": {},
   "outputs": [],
   "source": [
    "def calc_score(score_matrix, x, y): \n",
    "    similarity = Substitution_score(match_score_matrix, x, y)\n",
    "    \n",
    "    same_row = [(score_matrix[x][y-l]-gap_penalty(l)) for l in range(1,y+1)]\n",
    "    same_col = [(score_matrix[x-k][y]-gap_penalty(k)) for k in range(1,x+1)]\n",
    "    \n",
    "    up_score = max(same_col)\n",
    "    left_score = max(same_row)\n",
    "       \n",
    "    diag_score = score_matrix[x - 1][y - 1] + similarity\n",
    "    pos_max_up = first_pos_max(same_col)    \n",
    "    pos_max_left = first_pos_max(same_row)                  \n",
    "\n",
    "    score =  max(0, diag_score, up_score, left_score)  \n",
    "    \n",
    "    if score == diag_score:\n",
    "        antecedent = [1, 'DIAG']\n",
    "        return score, antecedent\n",
    "    elif score == up_score:\n",
    "        antecedent = [pos_max_up + 1, 'UP']\n",
    "        return score, antecedent\n",
    "    elif score == left_score: \n",
    "        antecedent = [pos_max_left + 1, 'LEFT']\n",
    "        return score, antecedent \n",
    "    else:\n",
    "        return score, [0, 'NULL']"
   ]
  },
  {
   "cell_type": "code",
   "execution_count": 4,
   "metadata": {},
   "outputs": [],
   "source": [
    "def create_match_score_matrix(alphabet, match, mismatch):\n",
    "    global match_score_matrix \n",
    "    match_score_matrix = np.zeros((len(alphabet), len(alphabet)))\n",
    "\n",
    "    for i in range(len(alphabet)):\n",
    "        for j in range(len(alphabet)):\n",
    "            if alphabet[i] == alphabet[j] :\n",
    "                match_score_matrix[i][j] = match\n",
    "            elif alphabet[i] != alphabet[j]:\n",
    "                match_score_matrix[i][j] = mismatch                \n",
    "    return match_score_matrix"
   ]
  },
  {
   "cell_type": "code",
   "execution_count": 5,
   "metadata": {},
   "outputs": [],
   "source": [
    "def Substitution_score(match_score_matrix, x, y):\n",
    "    a_i = alphabet.index(seqA[x-1])\n",
    "    b_j = alphabet.index(seqB[y-1])\n",
    "    \n",
    "    return match_score_matrix[a_i][b_j]"
   ]
  },
  {
   "cell_type": "code",
   "execution_count": 6,
   "metadata": {},
   "outputs": [],
   "source": [
    "def first_pos_max(list1):\n",
    "    maxi = max(list1)\n",
    "    return [i for i, j in enumerate(list1) if j == maxi][0]"
   ]
  },
  {
   "cell_type": "code",
   "execution_count": 7,
   "metadata": {},
   "outputs": [],
   "source": [
    "def gap_penalty(k): \n",
    "    return k*continue_gap_penalty + open_gap_penalty "
   ]
  },
  {
   "cell_type": "code",
   "execution_count": 8,
   "metadata": {},
   "outputs": [
    {
     "name": "stdout",
     "output_type": "stream",
     "text": [
      "-----------------TC-CCAGTTATGTCAG---gggacacgagcatgcagagac\n",
      "aattgccgccgtcgtttTCAGCAGTTATGTCAGatc---------------------\n"
     ]
    }
   ],
   "source": [
    "import numpy as np\n",
    "\n",
    "seqA = 'tcccagttatgtcaGgggacacgagcatgcagagac'.upper()\n",
    "seqB = 'aattgccgccgtcgttttcagcagttatgtcagatc'.upper()\n",
    "\n",
    "match = 3\n",
    "mismatch = -1\n",
    "open_gap_penalty = 1\n",
    "continue_gap_penalty  = 4\n",
    "\n",
    "alphabet = 'ACGT' \n",
    "\n",
    "match_score_matrix = create_match_score_matrix(alphabet, match, mismatch)\n",
    "\n",
    "rows = len(seqA) + 1\n",
    "cols = len(seqB) + 1\n",
    "\n",
    "score_matrix, start_pos, max_score, path_matrix = create_score_matrix(rows, cols)  \n",
    "\n",
    "seqA_aligned, seqB_aligned = traceback(path_matrix, start_pos, score_matrix)\n",
    "\n",
    "print(seqA_aligned)\n",
    "print(seqB_aligned)"
   ]
  },
  {
   "cell_type": "code",
   "execution_count": 9,
   "metadata": {},
   "outputs": [
    {
     "name": "stdout",
     "output_type": "stream",
     "text": [
      "---T-CC-CAGT--TATGTCAGGGGACACGAGCATG-CAGA--gac\n",
      "aatTGCCGCCGTCGT-TTTCAG----CA-G-TTATGTCAGAtc---\n"
     ]
    }
   ],
   "source": [
    "open_gap_penalty = 1\n",
    "continue_gap_penalty  = 1\n",
    "\n",
    "alphabet = 'ACGT' \n",
    "\n",
    "match_score_matrix = create_match_score_matrix(alphabet, match, mismatch)\n",
    "\n",
    "rows = len(seqA) + 1\n",
    "cols = len(seqB) + 1\n",
    "\n",
    "score_matrix, start_pos, max_score, path_matrix = create_score_matrix(rows, cols)  \n",
    "\n",
    "seqA_aligned, seqB_aligned = traceback(path_matrix, start_pos, score_matrix)\n",
    "\n",
    "print(seqA_aligned)\n",
    "print(seqB_aligned)"
   ]
  },
  {
   "cell_type": "code",
   "execution_count": null,
   "metadata": {},
   "outputs": [],
   "source": []
  }
 ],
 "metadata": {
  "kernelspec": {
   "display_name": "Python 3",
   "language": "python",
   "name": "python3"
  },
  "language_info": {
   "codemirror_mode": {
    "name": "ipython",
    "version": 3
   },
   "file_extension": ".py",
   "mimetype": "text/x-python",
   "name": "python",
   "nbconvert_exporter": "python",
   "pygments_lexer": "ipython3",
   "version": "3.7.6"
  }
 },
 "nbformat": 4,
 "nbformat_minor": 4
}
