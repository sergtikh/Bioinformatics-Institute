{
 "cells": [
  {
   "cell_type": "code",
   "execution_count": 6,
   "metadata": {},
   "outputs": [],
   "source": [
    "seq1 = \"AAATGCGCAATCGA\"\n",
    "seq2 = \"AATGATGCAGAGT\""
   ]
  },
  {
   "cell_type": "code",
   "execution_count": 11,
   "metadata": {},
   "outputs": [
    {
     "name": "stdout",
     "output_type": "stream",
     "text": [
      "[[ 5. -2. -1. -1.]\n",
      " [-2.  7. -1.  3.]\n",
      " [-1. -1.  7.  0.]\n",
      " [-1.  3.  0.  6.]]\n"
     ]
    }
   ],
   "source": [
    "import numpy as np\n",
    "gap_penalty = -1\n",
    "\n",
    "\n",
    "match_score = np.zeros((4, 4))\n",
    "match_score[0][0] = 5\n",
    "match_score[0][1] = match_score[1][0] = -2\n",
    "match_score[0][2] = match_score[2][0] = -1\n",
    "match_score[0][3] = match_score[3][0] = -1\n",
    "match_score[1][1] = 7\n",
    "match_score[1][2] = match_score[2][1] = -1\n",
    "match_score[1][3] = match_score[3][1] = 3\n",
    "match_score[2][2] = 7\n",
    "match_score[2][3] = match_score[3][2] = 0\n",
    "match_score[3][3] = 6\n",
    "print(match_score)\n",
    "letters = {\"A\" : 0, \"T\" : 1, \"C\" : 2, \"G\" : 3}"
   ]
  },
  {
   "cell_type": "code",
   "execution_count": 12,
   "metadata": {},
   "outputs": [
    {
     "name": "stdout",
     "output_type": "stream",
     "text": [
      "AAATG_CGCA_ATCGA\n",
      "_AATGATGCAGAG_T_\n"
     ]
    }
   ],
   "source": [
    "def needleman_wunsch(seqA, seqB):\n",
    "    n = len(seqA)  \n",
    "    m = len(seqB)\n",
    "\n",
    "    score = np.zeros((m+1, n+1))\n",
    "\n",
    "    for i in range(0, m + 1):\n",
    "        score[i][0] = gap_penalty * i\n",
    "\n",
    "    for j in range(0, n + 1):\n",
    "        score[0][j] = gap_penalty * j\n",
    "    \n",
    "    for i in range(1, m + 1):\n",
    "        for j in range(1, n + 1):\n",
    "            match = score[i - 1][j - 1] + match_score[letters[seq1[j-1]]][letters[seq2[i-1]]]\n",
    "            delete = score[i - 1][j] + gap_penalty\n",
    "            insert = score[i][j - 1] + gap_penalty\n",
    "            score[i][j] = max(match, delete, insert)\n",
    "\n",
    "    AlignmentA = \"\"\n",
    "    AlignmentB = \"\"\n",
    "\n",
    "    i = m\n",
    "    j = n\n",
    "\n",
    "    while i > 0 and j > 0:\n",
    "        score_current = score[i][j]\n",
    "        score_diagonal = score[i-1][j-1]\n",
    "        score_up = score[i][j-1]\n",
    "        score_left = score[i-1][j]\n",
    "\n",
    "        if score_current == score_diagonal + match_score[letters[seq1[j-1]]][letters[seq2[i-1]]]:\n",
    "            AlignmentA += seqA[j-1]\n",
    "            AlignmentB += seqB[i-1]\n",
    "            i -= 1\n",
    "            j -= 1\n",
    "        elif score_current == score_up + gap_penalty:\n",
    "            AlignmentA += seqA[j-1]\n",
    "            AlignmentB += '_'\n",
    "            j -= 1\n",
    "        elif score_current == score_left + gap_penalty:\n",
    "            AlignmentA += '_'\n",
    "            AlignmentB += seqB[i-1]\n",
    "            i -= 1\n",
    "\n",
    "    while j > 0:\n",
    "        AlignmentA += seqA[j-1]\n",
    "        AlignmentB += '_'\n",
    "        j -= 1\n",
    "    while i > 0:\n",
    "        AlignmentA += '_'\n",
    "        AlignmentB += seqB[i-1]\n",
    "        i -= 1\n",
    "    \n",
    "    AlignmentA = AlignmentA[::-1]\n",
    "    AlignmentB = AlignmentB[::-1]\n",
    "    \n",
    "    return(AlignmentA, AlignmentB)\n",
    "\n",
    "output1, output2 = needleman_wunsch(seq1, seq2)\n",
    "\n",
    "print(output1 + \"\\n\" + output2)"
   ]
  },
  {
   "cell_type": "code",
   "execution_count": 13,
   "metadata": {},
   "outputs": [
    {
     "name": "stdout",
     "output_type": "stream",
     "text": [
      "AAATG_CGCAATCGA\n",
      "_AATGATGC_AGAGT\n"
     ]
    }
   ],
   "source": [
    "match_score[0][0] = 1\n",
    "output1, output2 = needleman_wunsch(seq1, seq2)\n",
    "\n",
    "print(output1 + \"\\n\" + output2)"
   ]
  },
  {
   "cell_type": "code",
   "execution_count": null,
   "metadata": {},
   "outputs": [],
   "source": []
  }
 ],
 "metadata": {
  "kernelspec": {
   "display_name": "Python 3",
   "language": "python",
   "name": "python3"
  },
  "language_info": {
   "codemirror_mode": {
    "name": "ipython",
    "version": 3
   },
   "file_extension": ".py",
   "mimetype": "text/x-python",
   "name": "python",
   "nbconvert_exporter": "python",
   "pygments_lexer": "ipython3",
   "version": "3.7.6"
  }
 },
 "nbformat": 4,
 "nbformat_minor": 4
}
