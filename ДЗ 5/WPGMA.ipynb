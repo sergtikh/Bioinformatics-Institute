{
 "cells": [
  {
   "cell_type": "code",
   "execution_count": 66,
   "metadata": {},
   "outputs": [],
   "source": [
    "import array\n",
    "import numpy"
   ]
  },
  {
   "cell_type": "code",
   "execution_count": 67,
   "metadata": {},
   "outputs": [],
   "source": [
    "def Matrix_Min(matrix, length):\n",
    "    min_index_i = 0\n",
    "    min_index_j = 0\n",
    "    minimum=float('inf')\n",
    "    for i in range (length):\n",
    "        temp = matrix[i]\n",
    "        min_value = numpy.min(temp[numpy.nonzero(temp)])\n",
    "        j = temp.tolist().index(min_value)\n",
    "\n",
    "        if min_value < minimum: \n",
    "            min_index_i = i\n",
    "            min_index_j = j\n",
    "            minimum = min_value\n",
    "   \n",
    "    return min_index_i,min_index_j"
   ]
  },
  {
   "cell_type": "code",
   "execution_count": 68,
   "metadata": {},
   "outputs": [],
   "source": [
    "def wpgma(matrix, length, dictionary):\n",
    "    alphabet = \"abcdefghijklmnopqrstuvwxyz\".upper()\n",
    "    leaves = []\n",
    "    count = 0\n",
    "    for i in range(0, length):    \n",
    "        leaves.append(alphabet[i])\n",
    "    \n",
    "    numberOfClusters=i+1\n",
    "    \n",
    "    while(length>1):  \n",
    "        numberOfClusters=numberOfClusters+1\n",
    "        count=count+1\n",
    "        min_index_i,min_index_j = Matrix_Min(matrix, length)\n",
    "        leaves.append(alphabet[numberOfClusters])\n",
    "        distance=matrix[min_index_i][min_index_j]/float(2)\n",
    "        \n",
    "        size=0\n",
    "        if leaves[min_index_i] not in dictionary.keys():\n",
    "            size1=1\n",
    "            distance1=distance\n",
    "        else:\n",
    "            size1=dictionary[leaves[min_index_i]][4]\n",
    "            distance1=distance-max(dictionary[leaves[min_index_i]][0],dictionary[leaves[min_index_i]][2])\n",
    "        \n",
    "        if leaves[min_index_j] not in dictionary.keys():\n",
    "            size2=1\n",
    "            distance2=distance\n",
    "        else:\n",
    "            size2=dictionary[leaves[min_index_j]][4]\n",
    "            distance2=distance-max(dictionary[leaves[min_index_j]][0],dictionary[leaves[min_index_j]][2])\n",
    "        dictionary[alphabet[numberOfClusters]]=[distance1,leaves[min_index_i],distance2,leaves[min_index_j],size1+size2]\n",
    "        matrix = numpy.insert(matrix, length, values=float(0), axis=0)\n",
    "        matrix = numpy.insert(matrix, length, values=float(0), axis=1)\n",
    "        \n",
    "        for i in range (0, length):\n",
    "            matrix[-1][i]=matrix[i][-1] = (size1*matrix[i][min_index_i] + size2*matrix[i][min_index_j])/float(size1+size2)\n",
    "        \n",
    "        if min_index_i < min_index_j:\n",
    "            matrix = numpy.delete(matrix, min_index_i, 0)\n",
    "            matrix = numpy.delete(matrix, min_index_i, 1)\n",
    "            matrix = numpy.delete(matrix, (min_index_j)-1, 0)\n",
    "            matrix = numpy.delete(matrix, (min_index_j)-1, 1)\n",
    "            length = len(matrix)\n",
    "            del leaves[min_index_j]\n",
    "            del leaves[min_index_i]\n",
    "\n",
    "        else:\n",
    "            matrix = numpy.delete(matrix, min_index_i, 0)\n",
    "            matrix = numpy.delete(matrix, min_index_i, 1)\n",
    "            matrix = numpy.delete(matrix, min_index_j, 0)\n",
    "            matrix = numpy.delete(matrix, min_index_j, 1)            \n",
    "            length = len(matrix)\n",
    "            del leaves[min_index_i]\n",
    "            del leaves[min_index_j]\n",
    "        \n",
    "    return alphabet[numberOfClusters]"
   ]
  },
  {
   "cell_type": "code",
   "execution_count": 71,
   "metadata": {},
   "outputs": [],
   "source": [
    "def Cluster_Output(dictionary,finalCluster):\n",
    "    stack = []\n",
    "    result = []\n",
    "    stack.append(finalCluster)\n",
    "    while stack:    \n",
    "        current = stack.pop()\n",
    "        if isinstance(current , float):\n",
    "            if isinstance(current_prev , float):\n",
    "                result.pop()\n",
    "                result.append(\")\")\n",
    "            result.append(\":\"+str(round(current, 2)))\n",
    "            result.append(\",\")\n",
    "            \n",
    "        elif current in dictionary.keys():\n",
    "        \n",
    "            stack.append(dictionary[current][0])\n",
    "            stack.append(dictionary[current][1])\n",
    "            stack.append(dictionary[current][2])\n",
    "            stack.append(dictionary[current][3])\n",
    "            result.append(\"(\")\n",
    "        else:\n",
    "            result.append(current)\n",
    "        current_prev = current\n",
    "        \n",
    "    result.pop()\n",
    "    result.append(\")\")  \n",
    "    return result"
   ]
  },
  {
   "cell_type": "code",
   "execution_count": 72,
   "metadata": {},
   "outputs": [
    {
     "name": "stdout",
     "output_type": "stream",
     "text": [
      "1\n",
      "(((D:2.0,C:2.0):2.0,B:4.0):3.0,A:7.0)\n"
     ]
    }
   ],
   "source": [
    "test_number = int(input())\n",
    "if test_number == 1:\n",
    "    matrix = [[0, 16, 16, 10], [16, 0, 8, 8], [16, 8, 0, 4], [10, 8, 4, 0]]\n",
    "else:\n",
    "    matrix = [[0, 5, 4, 7, 6, 8], [5, 0, 7, 10, 9, 11], [4, 7, 0, 7, 6, 8], [7, 10, 7, 0, 5, 9], [6, 9, 6, 5, 0, 8], [8, 11, 8, 9, 8, 0]]\n",
    "matrix = numpy.asarray(matrix)\n",
    "matrix = matrix.astype(numpy.float)\n",
    "length = len(matrix) \n",
    "\n",
    "dictionary={}\n",
    "finalCluster = wpgma(matrix, length,dictionary)\n",
    "result=Cluster_Output(dictionary,finalCluster)\n",
    "result=''.join(result)\n",
    "\n",
    "print(result) "
   ]
  },
  {
   "cell_type": "code",
   "execution_count": null,
   "metadata": {},
   "outputs": [],
   "source": []
  }
 ],
 "metadata": {
  "kernelspec": {
   "display_name": "Python 3",
   "language": "python",
   "name": "python3"
  },
  "language_info": {
   "codemirror_mode": {
    "name": "ipython",
    "version": 3
   },
   "file_extension": ".py",
   "mimetype": "text/x-python",
   "name": "python",
   "nbconvert_exporter": "python",
   "pygments_lexer": "ipython3",
   "version": "3.7.6"
  }
 },
 "nbformat": 4,
 "nbformat_minor": 4
}
